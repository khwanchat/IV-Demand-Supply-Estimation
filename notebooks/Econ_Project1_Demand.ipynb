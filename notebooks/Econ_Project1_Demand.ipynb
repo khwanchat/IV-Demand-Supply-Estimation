{
 "cells": [
  {
   "cell_type": "code",
   "execution_count": 2,
   "metadata": {},
   "outputs": [
    {
     "name": "stdout",
     "output_type": "stream",
     "text": [
      "                            OLS Regression Results                            \n",
      "==============================================================================\n",
      "Dep. Variable:                 ln(qu)   R-squared:                       0.281\n",
      "Model:                            OLS   Adj. R-squared:                  0.225\n",
      "Method:                 Least Squares   F-statistic:                     5.005\n",
      "Date:                Mon, 11 Nov 2024   Prob (F-statistic):           0.000223\n",
      "Time:                        19:06:42   Log-Likelihood:                 79.044\n",
      "No. Observations:                  84   AIC:                            -144.1\n",
      "Df Residuals:                      77   BIC:                            -127.1\n",
      "Df Model:                           6                                         \n",
      "Covariance Type:            nonrobust                                         \n",
      "=====================================================================================\n",
      "                        coef    std err          t      P>|t|      [0.025      0.975]\n",
      "-------------------------------------------------------------------------------------\n",
      "const                -5.1915      3.841     -1.352      0.180     -12.840       2.457\n",
      "ln(cprice/oprice)    -0.2553      0.089     -2.855      0.006      -0.433      -0.077\n",
      "ln(tprice/oprice)     0.3052      0.524      0.582      0.562      -0.739       1.349\n",
      "ln(incom/oprice)      0.6065      0.361      1.682      0.097      -0.112       1.324\n",
      "q2                    0.0137      0.033      0.421      0.675      -0.051       0.079\n",
      "q3                    0.0050      0.031      0.162      0.872      -0.056       0.066\n",
      "q4                    0.1090      0.033      3.328      0.001       0.044       0.174\n",
      "==============================================================================\n",
      "Omnibus:                        5.488   Durbin-Watson:                   2.171\n",
      "Prob(Omnibus):                  0.064   Jarque-Bera (JB):                4.733\n",
      "Skew:                           0.524   Prob(JB):                       0.0938\n",
      "Kurtosis:                       3.503   Cond. No.                     3.06e+03\n",
      "==============================================================================\n",
      "\n",
      "Notes:\n",
      "[1] Standard Errors assume that the covariance matrix of the errors is correctly specified.\n",
      "[2] The condition number is large, 3.06e+03. This might indicate that there are\n",
      "strong multicollinearity or other numerical problems.\n"
     ]
    }
   ],
   "source": [
    "import pandas as pd\n",
    "import statsmodels.api as sm\n",
    "import matplotlib.pyplot as plt\n",
    "\n",
    "df = pd.read_excel('Project1Data_Adj.xlsx')\n",
    "\n",
    "# Demand Function\n",
    "X_d = df[['ln(cprice/oprice)','ln(tprice/oprice)','ln(incom/oprice)','q2','q3','q4']]\n",
    "y_d = df['ln(qu)']\n",
    "\n",
    "X_d = sm.add_constant(X_d)\n",
    "\n",
    "model_d = sm.OLS(y_d,X_d)\n",
    "\n",
    "result_d = model_d.fit()\n",
    "residuals = result_d.resid\n",
    "\n",
    "print(result_d.summary())\n"
   ]
  },
  {
   "cell_type": "code",
   "execution_count": 3,
   "metadata": {},
   "outputs": [
    {
     "name": "stdout",
     "output_type": "stream",
     "text": [
      "                   ln(cprice/oprice)  ln(bprice/oprice)  ln(wprice/oprice)\n",
      "ln(cprice/oprice)           1.000000           0.948766           -0.15738\n",
      "ln(bprice/oprice)           0.948766           1.000000           -0.28190\n",
      "ln(wprice/oprice)          -0.157380          -0.281900            1.00000\n"
     ]
    }
   ],
   "source": [
    "# Correlation between endogenous variable and potential instruments\n",
    "print(df[['ln(cprice/oprice)', 'ln(bprice/oprice)', 'ln(wprice/oprice)']].corr())\n"
   ]
  },
  {
   "cell_type": "code",
   "execution_count": 4,
   "metadata": {},
   "outputs": [
    {
     "data": {
      "image/png": "[encoded data removed]",
      "text/plain": [
       "<Figure size 640x480 with 2 Axes>"
      ]
     },
     "metadata": {},
     "output_type": "display_data"
    }
   ],
   "source": [
    "import seaborn as sns\n",
    "\n",
    "selected_vars = ['ln(cprice/oprice)', 'ln(bprice/oprice)', 'ln(wprice/oprice)']\n",
    "subset_df = df[selected_vars]\n",
    "\n",
    "sns.heatmap(subset_df.corr(), cmap='Blues', annot=True)\n",
    "\n",
    "plt.show()"
   ]
  },
  {
   "cell_type": "code",
   "execution_count": 5,
   "metadata": {},
   "outputs": [
    {
     "name": "stdout",
     "output_type": "stream",
     "text": [
      "                            OLS Regression Results                            \n",
      "==============================================================================\n",
      "Dep. Variable:      ln(cprice/oprice)   R-squared:                       0.918\n",
      "Model:                            OLS   Adj. R-squared:                  0.912\n",
      "Method:                 Least Squares   F-statistic:                     143.6\n",
      "Date:                Mon, 11 Nov 2024   Prob (F-statistic):           1.05e-39\n",
      "Time:                        19:06:43   Log-Likelihood:                 154.51\n",
      "No. Observations:                  84   AIC:                            -295.0\n",
      "Df Residuals:                      77   BIC:                            -278.0\n",
      "Df Model:                           6                                         \n",
      "Covariance Type:            nonrobust                                         \n",
      "=====================================================================================\n",
      "                        coef    std err          t      P>|t|      [0.025      0.975]\n",
      "-------------------------------------------------------------------------------------\n",
      "const                 0.5971      1.569      0.381      0.705      -2.527       3.721\n",
      "ln(tprice/oprice)    -0.2232      0.213     -1.047      0.299      -0.648       0.201\n",
      "ln(incom/oprice)      0.2640      0.145      1.823      0.072      -0.024       0.552\n",
      "q2                   -0.0132      0.013     -0.995      0.323      -0.040       0.013\n",
      "q3                    0.0045      0.013      0.361      0.719      -0.020       0.029\n",
      "q4                    0.0029      0.013      0.220      0.827      -0.024       0.029\n",
      "ln(bprice/oprice)     0.4806      0.018     26.020      0.000       0.444       0.517\n",
      "==============================================================================\n",
      "Omnibus:                        3.401   Durbin-Watson:                   0.401\n",
      "Prob(Omnibus):                  0.183   Jarque-Bera (JB):                3.142\n",
      "Skew:                           0.473   Prob(JB):                        0.208\n",
      "Kurtosis:                       2.952   Cond. No.                     2.97e+03\n",
      "==============================================================================\n",
      "\n",
      "Notes:\n",
      "[1] Standard Errors assume that the covariance matrix of the errors is correctly specified.\n",
      "[2] The condition number is large, 2.97e+03. This might indicate that there are\n",
      "strong multicollinearity or other numerical problems.\n"
     ]
    }
   ],
   "source": [
    "# Check the bprice with the cprice\n",
    "\n",
    "X_ex = df[['ln(tprice/oprice)', 'ln(incom/oprice)', 'q2', 'q3', 'q4']]  # Exogenous variables\n",
    "X_end = df['ln(cprice/oprice)']\n",
    "Z = df[['ln(bprice/oprice)']] # Instrument\n",
    "\n",
    "# Combine the instrument with the exogenous variables\n",
    "X_first_stage = sm.add_constant(pd.concat([X_ex, Z], axis=1))\n",
    "\n",
    "# Run the first-stage regression with the instrument and exogenous variables\n",
    "first_stage_multiple = sm.OLS(X_end, X_first_stage).fit()\n",
    "\n",
    "# Print the summary to check the F-statistic for the instrument and the overall model\n",
    "print(first_stage_multiple.summary())"
   ]
  },
  {
   "cell_type": "code",
   "execution_count": 6,
   "metadata": {},
   "outputs": [
    {
     "name": "stdout",
     "output_type": "stream",
     "text": [
      "Wu-Hausman test of exogeneity\n",
      "H0: All endogenous variables are exogenous\n",
      "Statistic: 0.5543\n",
      "P-value: 0.4589\n",
      "Distributed: F(1,76)\n"
     ]
    }
   ],
   "source": [
    "# Test the exogeneity\n",
    "from linearmodels.iv import IV2SLS\n",
    "\n",
    "iv2sls = IV2SLS(dependent = y_d, \n",
    "               endog = X_end,\n",
    "               exog = sm.add_constant(X_ex),\n",
    "               instruments = Z).fit()\n",
    "\n",
    "print(iv2sls.wu_hausman())"
   ]
  },
  {
   "cell_type": "code",
   "execution_count": null,
   "metadata": {},
   "outputs": [
    {
     "name": "stdout",
     "output_type": "stream",
     "text": [
      "Sargan Test Statistic: 9.325873406851315e-15\n",
      "Degrees of Freedom: 0\n",
      "P-Value: nan\n",
      "Fail to reject the null hypothesis: Instruments appear to be exogenous.\n"
     ]
    }
   ],
   "source": [
    "import statsmodels.api as sm\n",
    "from scipy.stats import chi2\n",
    "\n",
    "# Assuming you already have the following:\n",
    "# X_ex = df[['ln(tprice/oprice)', 'ln(incom/oprice)', 'q2', 'q3', 'q4']]  # Exogenous variables\n",
    "# X_end = df['ln(cprice/oprice)']\n",
    "# Z = df[['ln(bprice/oprice)']] \n",
    "# Y: Dependent variable (array or Series)\n",
    "# X: Endogenous variable (array or Series, typically the regressor in the 2SLS model)\n",
    "# instruments: DataFrame of instruments used for X (e.g., columns for Z1, Z2, etc.)\n",
    "# model_2sls: The 2SLS model result object from statsmodels\n",
    "\n",
    "# Step 1: Get the residuals from the 2SLS model\n",
    "residuals = first_stage_multiple.resid  # Obtain residuals from the fitted 2SLS model\n",
    "\n",
    "# Step 2: Regress the residuals on all instrumental variables\n",
    "# Add a constant to the instrument matrix\n",
    "exog_instruments = sm.add_constant(Z)\n",
    "sargan_test_model = sm.OLS(residuals, exog_instruments).fit()\n",
    "\n",
    "# Step 3: Calculate the Sargan test statistic (n * R^2)\n",
    "nR2 = len(Z) * sargan_test_model.rsquared\n",
    "\n",
    "# Step 4: Determine degrees of freedom (df = number of instruments - number of endogenous variables)\n",
    "# Assuming one endogenous variable, degrees of freedom = number of instruments - 1\n",
    "degrees_of_freedom = Z.shape[1] - 1\n",
    "\n",
    "# Step 5: Calculate the p-value for the chi-square test\n",
    "p_value = 1 - chi2.cdf(nR2, degrees_of_freedom)\n",
    "\n",
    "# Display results\n",
    "print(\"Sargan Test Statistic:\", nR2)\n",
    "print(\"Degrees of Freedom:\", degrees_of_freedom)\n",
    "print(\"P-Value:\", p_value)\n",
    "\n",
    "if p_value < 0.05:\n",
    "    print(\"Reject the null hypothesis: Instruments may not be exogenous.\")\n",
    "else:\n",
    "    print(\"Fail to reject the null hypothesis: Instruments appear to be exogenous.\")\n"
   ]
  },
  {
   "cell_type": "code",
   "execution_count": 7,
   "metadata": {},
   "outputs": [
    {
     "name": "stdout",
     "output_type": "stream",
     "text": [
      "                          IV-2SLS Estimation Summary                          \n",
      "==============================================================================\n",
      "Dep. Variable:                 ln(qu)   R-squared:                      0.2800\n",
      "Estimator:                    IV-2SLS   Adj. R-squared:                 0.2239\n",
      "No. Observations:                  84   F-statistic:                    39.613\n",
      "Date:                Mon, Nov 11 2024   P-value (F-stat)                0.0000\n",
      "Time:                        19:06:43   Distribution:                  chi2(6)\n",
      "Cov. Estimator:                robust                                         \n",
      "                                                                              \n",
      "                                 Parameter Estimates                                 \n",
      "=====================================================================================\n",
      "                   Parameter  Std. Err.     T-stat    P-value    Lower CI    Upper CI\n",
      "-------------------------------------------------------------------------------------\n",
      "const                -5.3122     4.0855    -1.3003     0.1935     -13.320      2.6952\n",
      "ln(tprice/oprice)     0.2996     0.6019     0.4977     0.6187     -0.8801      1.4792\n",
      "ln(incom/oprice)      0.6325     0.3518     1.7976     0.0722     -0.0571      1.3220\n",
      "q2                    0.0127     0.0288     0.4431     0.6577     -0.0436      0.0691\n",
      "q3                    0.0051     0.0297     0.1701     0.8650     -0.0532      0.0633\n",
      "q4                    0.1086     0.0315     3.4499     0.0006      0.0469      0.1702\n",
      "ln(cprice/oprice)    -0.2778     0.0790    -3.5160     0.0004     -0.4327     -0.1230\n",
      "=====================================================================================\n",
      "\n",
      "Endogenous: ln(cprice/oprice)\n",
      "Instruments: ln(bprice/oprice)\n",
      "Robust Covariance (Heteroskedastic)\n",
      "Debiased: False\n"
     ]
    }
   ],
   "source": [
    "from linearmodels.iv import IV2SLS\n",
    "# Define variable\n",
    "y = df['ln(qu)']  # dependent variable\n",
    "X = df[['ln(tprice/oprice)', 'ln(incom/oprice)', 'q2', 'q3', 'q4']]  # independent variable => without endogeneity problem\n",
    "Z = df[['ln(bprice/oprice)']]  # IV\n",
    "W = df[['ln(cprice/oprice)']]  # independent variable => with endogeneity problem\n",
    "\n",
    "#Add intercept\n",
    "X = sm.add_constant(X)\n",
    "\n",
    "# Model\n",
    "model = IV2SLS(dependent=y, exog=X, endog=W, instruments=Z).fit()\n",
    "\n",
    "# check result\n",
    "print(model.summary)"
   ]
  }
 ],
 "metadata": {
  "kernelspec": {
   "display_name": "Python 3",
   "language": "python",
   "name": "python3"
  },
  "language_info": {
   "codemirror_mode": {
    "name": "ipython",
    "version": 3
   },
   "file_extension": ".py",
   "mimetype": "text/x-python",
   "name": "python",
   "nbconvert_exporter": "python",
   "pygments_lexer": "ipython3",
   "version": "3.12.4"
  }
 },
 "nbformat": 4,
 "nbformat_minor": 2
}
