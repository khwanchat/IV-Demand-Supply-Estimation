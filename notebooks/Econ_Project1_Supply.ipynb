{
 "cells": [
  {
   "cell_type": "code",
   "execution_count": 4,
   "metadata": {},
   "outputs": [
    {
     "name": "stdout",
     "output_type": "stream",
     "text": [
      "                            OLS Regression Results                            \n",
      "==============================================================================\n",
      "Dep. Variable:                     qu   R-squared:                       0.264\n",
      "Model:                            OLS   Adj. R-squared:                  0.207\n",
      "Method:                 Least Squares   F-statistic:                     4.615\n",
      "Date:                Sun, 22 Sep 2024   Prob (F-statistic):           0.000470\n",
      "Time:                        11:35:15   Log-Likelihood:                 106.76\n",
      "No. Observations:                  84   AIC:                            -199.5\n",
      "Df Residuals:                      77   BIC:                            -182.5\n",
      "Df Model:                           6                                         \n",
      "Covariance Type:            nonrobust                                         \n",
      "==============================================================================\n",
      "                 coef    std err          t      P>|t|      [0.025      0.975]\n",
      "------------------------------------------------------------------------------\n",
      "const          0.5082      0.153      3.326      0.001       0.204       0.812\n",
      "cprice        -0.0013      0.017     -0.080      0.937      -0.034       0.032\n",
      "bprice        -0.0173      0.030     -0.576      0.567      -0.077       0.043\n",
      "wprice         0.0073      0.007      1.020      0.311      -0.007       0.022\n",
      "q2             0.0206      0.022      0.941      0.350      -0.023       0.064\n",
      "q3             0.0043      0.022      0.196      0.845      -0.040       0.048\n",
      "q4             0.0895      0.022      4.047      0.000       0.045       0.134\n",
      "==============================================================================\n",
      "Omnibus:                       29.681   Durbin-Watson:                   2.089\n",
      "Prob(Omnibus):                  0.000   Jarque-Bera (JB):               63.971\n",
      "Skew:                           1.259   Prob(JB):                     1.28e-14\n",
      "Kurtosis:                       6.455   Cond. No.                         695.\n",
      "==============================================================================\n",
      "\n",
      "Notes:\n",
      "[1] Standard Errors assume that the covariance matrix of the errors is correctly specified.\n"
     ]
    }
   ],
   "source": [
    "import pandas as pd\n",
    "import statsmodels.api as sm\n",
    "import matplotlib.pyplot as plt\n",
    "\n",
    "df = pd.read_excel('Project1Data_Adj.xlsx')\n",
    "\n",
    "# Supply Function\n",
    "X_s = df[['cprice','bprice','wprice','q2','q3','q4']]\n",
    "y_s = df['qu']\n",
    "\n",
    "X_s = sm.add_constant(X_s)\n",
    "\n",
    "model_s = sm.OLS(y_s,X_s)\n",
    "\n",
    "result_s = model_s.fit()\n",
    "\n",
    "print(result_s.summary())\n"
   ]
  },
  {
   "cell_type": "code",
   "execution_count": 5,
   "metadata": {},
   "outputs": [
    {
     "name": "stdout",
     "output_type": "stream",
     "text": [
      "          cprice    tprice     incom\n",
      "cprice  1.000000  0.836910  0.690952\n",
      "tprice  0.836910  1.000000  0.853276\n",
      "incom   0.690952  0.853276  1.000000\n"
     ]
    }
   ],
   "source": [
    "# Correlation between endogenous variable and potential instruments\n",
    "print(df[['cprice', 'tprice', 'incom']].corr())\n"
   ]
  },
  {
   "cell_type": "code",
   "execution_count": 7,
   "metadata": {},
   "outputs": [
    {
     "data": {
      "image/png": "[encoded data removed]",
      "text/plain": [
       "<Figure size 640x480 with 2 Axes>"
      ]
     },
     "metadata": {},
     "output_type": "display_data"
    }
   ],
   "source": [
    "import seaborn as sns\n",
    "\n",
    "selected_vars = ['cprice', 'tprice', 'incom']\n",
    "subset_df = df[selected_vars]\n",
    "\n",
    "sns.heatmap(subset_df.corr(), cmap='Blues', annot=True)\n",
    "\n",
    "plt.show()"
   ]
  },
  {
   "cell_type": "code",
   "execution_count": 4,
   "metadata": {},
   "outputs": [
    {
     "name": "stdout",
     "output_type": "stream",
     "text": [
      "                            OLS Regression Results                            \n",
      "==============================================================================\n",
      "Dep. Variable:                 cprice   R-squared:                       0.970\n",
      "Model:                            OLS   Adj. R-squared:                  0.967\n",
      "Method:                 Least Squares   F-statistic:                     348.0\n",
      "Date:                Sun, 22 Sep 2024   Prob (F-statistic):           5.16e-55\n",
      "Time:                        11:25:09   Log-Likelihood:                -50.577\n",
      "No. Observations:                  84   AIC:                             117.2\n",
      "Df Residuals:                      76   BIC:                             136.6\n",
      "Df Model:                           7                                         \n",
      "Covariance Type:            nonrobust                                         \n",
      "==============================================================================\n",
      "                 coef    std err          t      P>|t|      [0.025      0.975]\n",
      "------------------------------------------------------------------------------\n",
      "const        -10.6075      3.616     -2.934      0.004     -17.809      -3.406\n",
      "bprice         1.6254      0.066     24.675      0.000       1.494       1.757\n",
      "wprice         0.1059      0.094      1.124      0.264      -0.082       0.293\n",
      "q2            -0.0330      0.152     -0.217      0.829      -0.335       0.269\n",
      "q3             0.1763      0.145      1.216      0.228      -0.112       0.465\n",
      "q4             0.0597      0.156      0.382      0.703      -0.251       0.371\n",
      "tprice         0.6701      0.266      2.522      0.014       0.141       1.199\n",
      "incom          0.0009      0.001      1.030      0.306      -0.001       0.003\n",
      "==============================================================================\n",
      "Omnibus:                        3.590   Durbin-Watson:                   0.676\n",
      "Prob(Omnibus):                  0.166   Jarque-Bera (JB):                2.838\n",
      "Skew:                           0.367   Prob(JB):                        0.242\n",
      "Kurtosis:                       3.523   Cond. No.                     1.41e+05\n",
      "==============================================================================\n",
      "\n",
      "Notes:\n",
      "[1] Standard Errors assume that the covariance matrix of the errors is correctly specified.\n",
      "[2] The condition number is large, 1.41e+05. This might indicate that there are\n",
      "strong multicollinearity or other numerical problems.\n"
     ]
    }
   ],
   "source": [
    "# Check if tprice and incom can be IV\n",
    "\n",
    "X_end = df['cprice']\n",
    "X_ex = df[['bprice', 'wprice', 'q2', 'q3', 'q4']]  # Exogenous variables\n",
    "Z = df[['tprice','incom']]  # Instrument\n",
    "\n",
    "# Combine the instrument with the exogenous variables\n",
    "X_first_stage = sm.add_constant(pd.concat([X_ex, Z], axis=1))\n",
    "\n",
    "# Run the first-stage regression with the instrument and exogenous variables\n",
    "first_stage_multiple = sm.OLS(X_end, X_first_stage).fit()\n",
    "\n",
    "# Print the summary to check the F-statistic for the instrument and the overall model\n",
    "print(first_stage_multiple.summary())"
   ]
  },
  {
   "cell_type": "code",
   "execution_count": 5,
   "metadata": {},
   "outputs": [
    {
     "name": "stdout",
     "output_type": "stream",
     "text": [
      "Wu-Hausman test of exogeneity\n",
      "H0: All endogenous variables are exogenous\n",
      "Statistic: 2.3680\n",
      "P-value: 0.1280\n",
      "Distributed: F(1,76)\n"
     ]
    }
   ],
   "source": [
    "# Test the exogeneity\n",
    "from linearmodels.iv import IV2SLS\n",
    "\n",
    "iv2sls = IV2SLS(dependent = y_s, \n",
    "               endog = X_end,\n",
    "               exog = sm.add_constant(X_ex),\n",
    "               instruments = Z).fit()\n",
    "\n",
    "print(iv2sls.wu_hausman())"
   ]
  },
  {
   "cell_type": "code",
   "execution_count": 6,
   "metadata": {},
   "outputs": [
    {
     "name": "stdout",
     "output_type": "stream",
     "text": [
      "                          IV-2SLS Estimation Summary                          \n",
      "==============================================================================\n",
      "Dep. Variable:                     qu   R-squared:                      0.1011\n",
      "Estimator:                    IV-2SLS   Adj. R-squared:                 0.0311\n",
      "No. Observations:                  84   F-statistic:                    23.976\n",
      "Date:                Sun, Sep 22 2024   P-value (F-stat)                0.0005\n",
      "Time:                        11:27:33   Distribution:                  chi2(6)\n",
      "Cov. Estimator:                robust                                         \n",
      "                                                                              \n",
      "                             Parameter Estimates                              \n",
      "==============================================================================\n",
      "            Parameter  Std. Err.     T-stat    P-value    Lower CI    Upper CI\n",
      "------------------------------------------------------------------------------\n",
      "const          0.7197     0.2264     3.1785     0.0015      0.2759      1.1636\n",
      "bprice        -0.1379     0.0989    -1.3937     0.1634     -0.3318      0.0560\n",
      "wprice        -0.0143     0.0181    -0.7868     0.4314     -0.0498      0.0213\n",
      "q2             0.0204     0.0198     1.0306     0.3027     -0.0184      0.0592\n",
      "q3            -0.0074     0.0225    -0.3272     0.7435     -0.0515      0.0368\n",
      "q4             0.0797     0.0265     3.0134     0.0026      0.0279      0.1316\n",
      "cprice         0.0675     0.0563     1.2004     0.2300     -0.0427      0.1778\n",
      "==============================================================================\n",
      "\n",
      "Endogenous: cprice\n",
      "Instruments: tprice\n",
      "Robust Covariance (Heteroskedastic)\n",
      "Debiased: False\n"
     ]
    }
   ],
   "source": [
    "from linearmodels.iv import IV2SLS\n",
    "# Define variable\n",
    "y = df['qu']  # dependent variable\n",
    "X = df[['bprice','wprice', 'q2', 'q3', 'q4']]  # independent variable => without endogeneity problem\n",
    "Z = df[['tprice']]  # IV\n",
    "W = df['cprice']  # independent variable => with endogeneity problem\n",
    "\n",
    "#Add intercept\n",
    "X = sm.add_constant(X)\n",
    "\n",
    "# Model\n",
    "model = IV2SLS(dependent=y, exog=X, endog=W, instruments=Z).fit()\n",
    "\n",
    "# check result\n",
    "print(model.summary)"
   ]
  }
 ],
 "metadata": {
  "kernelspec": {
   "display_name": "base",
   "language": "python",
   "name": "python3"
  },
  "language_info": {
   "codemirror_mode": {
    "name": "ipython",
    "version": 3
   },
   "file_extension": ".py",
   "mimetype": "text/x-python",
   "name": "python",
   "nbconvert_exporter": "python",
   "pygments_lexer": "ipython3",
   "version": "3.12.4"
  }
 },
 "nbformat": 4,
 "nbformat_minor": 2
}
